{
 "cells": [
  {
   "metadata": {
    "ExecuteTime": {
     "end_time": "2025-09-16T21:50:48.775590Z",
     "start_time": "2025-09-16T21:50:40.925582Z"
    }
   },
   "cell_type": "code",
   "source": [
    "\n",
    "import os\n",
    "from dotenv import load_dotenv\n",
    "import requests\n",
    "import json\n",
    "\n",
    "# cargamos el archivo .env que tiene nuestras credenciales\n",
    "load_dotenv()\n",
    "CID = os.getenv(\"CLIENT_ID\")\n",
    "CSEC = os.getenv(\"CLIENT_SECRET\")\n",
    "\n",
    "# muestro solo un pedacito de las credenciales para chequear que se cargaron\n",
    "print(\"CLIENT_ID:\", CID[:10], \"...\")\n",
    "print(\"CLIENT_SECRET:\", CSEC[:10], \"...\")\n",
    "\n",
    "\n",
    "# Pedimos el token a Spotify\n",
    "url_token = \"https://accounts.spotify.com/api/token\"\n",
    "data = {\"grant_type\": \"client_credentials\"}\n",
    "\n",
    "resp = requests.post(url_token, data=data, auth=(CID, CSEC))\n",
    "# pedimos que nos den el token. Si falla va a tirar error feo jaja\n",
    "resp.raise_for_status()\n",
    "token = resp.json().get(\"access_token\")\n",
    "print(\"Token generado:\", token[:30], \"...\")\n",
    "\n",
    "\n",
    "\n",
    "# Buscar el artista que queremos (se puede cambiar el nombre)\n",
    "headers = {\"Authorization\": f\"Bearer {token}\"}\n",
    "nombre_artista = \"La Vela Puerca\"   # podés cambiarlo por tu favorito\n",
    "\n",
    "url_busqueda = \"https://api.spotify.com/v1/search\"\n",
    "params = {\"q\": nombre_artista, \"type\": \"artist\", \"limit\": 1}\n",
    "\n",
    "r = requests.get(url_busqueda, headers=headers, params=params)\n",
    "r.raise_for_status()\n",
    "\n",
    "data = r.json()\n",
    "items = data.get(\"artists\", {}).get(\"items\", [])\n",
    "\n",
    "if not items:\n",
    "    print(\"No encontré artista con ese nombre\")\n",
    "    artista_id = None\n",
    "else:\n",
    "    artista_id = items[0][\"id\"]\n",
    "    artista_nombre_real = items[0][\"name\"]\n",
    "\n",
    "    print(\"Artista encontrado:\", artista_nombre_real)\n",
    "    print(\" Artist ID:\", artista_id[:10])\n",
    "\n",
    "\n",
    "# Si encontramos artista, buscamos el top 10\n",
    "if artista_id:\n",
    "    url_top = f\"https://api.spotify.com/v1/artists/{artista_id}/top-tracks\"\n",
    "    params = {\"market\": \"UY\"}\n",
    "\n",
    "    rtop = requests.get(url_top, headers=headers, params=params)\n",
    "    rtop.raise_for_status()\n",
    "\n",
    "    tracks = rtop.json().get(\"tracks\", [])[:10]\n",
    "    print(\"Cantidad de temas encontrados:\", len(tracks))\n",
    "\n",
    "    resultado = []\n",
    "    for t in tracks:\n",
    "        # armo el diccionario con los datos que pide el trabajo\n",
    "        resultado.append({\n",
    "            \"song\": t[\"name\"],\n",
    "            \"popularity\": t[\"popularity\"],\n",
    "            \"duration\": t[\"duration_ms\"]  # viene en milisegundos\n",
    "        })\n",
    "\n",
    "    # guardo el resultado en un archivo JSON\n",
    "    with open(\"top10.json\", \"w\", encoding=\"utf-8\") as f:\n",
    "        json.dump(resultado, f, ensure_ascii=False, indent=2)\n",
    "\n",
    "    # muestro cada tema en formato más lindo\n",
    "    for i, t in enumerate(resultado, start=1):\n",
    "        segundos = t[\"duration\"] // 1000\n",
    "        mins, secs = divmod(segundos, 60)\n",
    "        print(f\"{i:02d}. {t['song']} | pop: {t['popularity']} | dur: {mins}:{secs:02d}\")\n",
    "\n"
   ],
   "id": "e528fb4818027944",
   "outputs": [
    {
     "name": "stdout",
     "output_type": "stream",
     "text": [
      "CLIENT_ID: 5192d08007 ...\n",
      "CLIENT_SECRET: 13464fb5b4 ...\n",
      "Token generado: BQBT6y-YOnFdFWknOeAJ9-xLQ8Eg87 ...\n",
      "Artista encontrado: La Vela Puerca\n",
      " Artist ID: 6nVcjUJemq\n",
      "Cantidad de temas encontrados: 10\n",
      "01. Zafar | pop: 44 | dur: 4:22\n",
      "02. Va a Escampar | pop: 46 | dur: 4:41\n",
      "03. El Viejo | pop: 43 | dur: 3:07\n",
      "04. Llenos de Magia | pop: 45 | dur: 3:52\n",
      "05. Para No Verme Más | pop: 59 | dur: 4:05\n",
      "06. Clarobscuro | pop: 39 | dur: 5:08\n",
      "07. En el Limbo | pop: 36 | dur: 4:42\n",
      "08. De Atar | pop: 42 | dur: 4:04\n",
      "09. Por la Ciudad | pop: 39 | dur: 3:02\n",
      "10. Ves | pop: 50 | dur: 3:15\n"
     ]
    }
   ],
   "execution_count": 19
  },
  {
   "metadata": {
    "ExecuteTime": {
     "end_time": "2025-09-16T21:08:20.881004Z",
     "start_time": "2025-09-16T21:08:20.878701Z"
    }
   },
   "cell_type": "code",
   "source": "\n",
   "id": "ebae6da66659a49b",
   "outputs": [],
   "execution_count": 13
  },
  {
   "metadata": {
    "ExecuteTime": {
     "end_time": "2025-09-16T21:08:05.694633Z",
     "start_time": "2025-09-16T21:08:05.691634Z"
    }
   },
   "cell_type": "code",
   "source": "\n",
   "id": "587c07511199e315",
   "outputs": [],
   "execution_count": 12
  },
  {
   "metadata": {
    "ExecuteTime": {
     "end_time": "2025-09-16T21:08:05.851317Z",
     "start_time": "2025-09-16T21:08:05.848543Z"
    }
   },
   "cell_type": "code",
   "source": "\n",
   "id": "ba8b0d3dbcce2c44",
   "outputs": [],
   "execution_count": 12
  },
  {
   "metadata": {
    "ExecuteTime": {
     "end_time": "2025-09-16T21:08:06.020358Z",
     "start_time": "2025-09-16T21:08:06.018180Z"
    }
   },
   "cell_type": "code",
   "source": "",
   "id": "c9d3ca10573bfdee",
   "outputs": [],
   "execution_count": null
  },
  {
   "metadata": {
    "ExecuteTime": {
     "end_time": "2025-09-16T21:08:06.184112Z",
     "start_time": "2025-09-16T21:08:06.180750Z"
    }
   },
   "cell_type": "code",
   "source": "",
   "id": "ae50cf753ef76592",
   "outputs": [],
   "execution_count": null
  },
  {
   "metadata": {},
   "cell_type": "code",
   "outputs": [],
   "execution_count": null,
   "source": "",
   "id": "55146666aedf34c5"
  }
 ],
 "metadata": {
  "kernelspec": {
   "display_name": "Python 3",
   "language": "python",
   "name": "python3"
  },
  "language_info": {
   "codemirror_mode": {
    "name": "ipython",
    "version": 2
   },
   "file_extension": ".py",
   "mimetype": "text/x-python",
   "name": "python",
   "nbconvert_exporter": "python",
   "pygments_lexer": "ipython2",
   "version": "2.7.6"
  }
 },
 "nbformat": 4,
 "nbformat_minor": 5
}
